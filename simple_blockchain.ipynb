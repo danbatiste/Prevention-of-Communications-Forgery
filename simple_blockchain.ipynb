{
 "cells": [
  {
   "cell_type": "code",
   "execution_count": 7,
   "metadata": {},
   "outputs": [
    {
     "name": "stdout",
     "output_type": "stream",
     "text": [
      "\n",
      "INSTRUCTION: 0\n",
      "LAST HASH: None\n",
      "Hello world\n",
      "\n",
      "INSTRUCTION: 1\n",
      "LAST HASH: -6534449790689726893\n",
      "This is the second block\n",
      "\n",
      "INSTRUCTION: 2\n",
      "LAST HASH: 3641250718697231708\n",
      "This is the third block\n",
      "\n",
      "Verified:  True\n",
      "\n",
      "INSTRUCTION: 0\n",
      "LAST HASH: None\n",
      "Hello world\n",
      "\n",
      "INSTRUCTION: 1\n",
      "LAST HASH: -6534449790689726893\n",
      "Blockchain has been tampered with!\n",
      "\n",
      "INSTRUCTION: 2\n",
      "LAST HASH: 3641250718697231708\n",
      "This is the third block\n",
      "\n",
      "Verified:  False\n"
     ]
    }
   ],
   "source": [
    "class BlockChain():\n",
    "    def __init__(self):\n",
    "        self.blockchain = []\n",
    "\n",
    "    def add_data(self, data):\n",
    "        if len(self.blockchain) == 0:\n",
    "            next_block = (data, None) # Genesis block\n",
    "            self.blockchain.append(next_block)\n",
    "        else:\n",
    "            genesis_block = self.blockchain[0]\n",
    "            previous_block = self.blockchain[-1] # when blockchain length == 1, both blocks are the genesis block.\n",
    "            next_block = (data, hash((genesis_block, previous_block))) # Hash the genesis block with the previous block\n",
    "            self.blockchain.append(next_block)\n",
    "    \n",
    "    def verify(self):\n",
    "        for i, block in list(enumerate(self.blockchain))[::-1]:\n",
    "            _, lasthash = block\n",
    "            if i == 0:\n",
    "                return True\n",
    "            actual_lasthash = hash((self.blockchain[0], self.blockchain[i-1]))\n",
    "            if actual_lasthash != lasthash:\n",
    "                return False\n",
    "        return True # Edge case where no blocks exist yet\n",
    "\n",
    "    def __repr__(self):\n",
    "        r=\"\"\n",
    "        for (i, block) in enumerate(self.blockchain):\n",
    "                data, lasthash = block\n",
    "                r += f\"\\nINSTRUCTION: {i}\\nLAST HASH: {lasthash}\\n{data}\\n\"\n",
    "        return r\n",
    "\n",
    "\n",
    "blockchain = BlockChain()\n",
    "blockchain.add_data(\"Hello world\")\n",
    "blockchain.add_data(\"This is the second block\")\n",
    "blockchain.add_data(\"This is the third block\")\n",
    "\n",
    "print(blockchain)\n",
    "print(\"Verified: \", blockchain.verify())\n",
    "\n",
    "# Modify the blockchain\n",
    "blockchain.blockchain[1] = (\"Blockchain has been tampered with!\", blockchain.blockchain[1][1])\n",
    "print(blockchain)\n",
    "print(\"Verified: \", blockchain.verify())"
   ]
  },
  {
   "cell_type": "code",
   "execution_count": null,
   "metadata": {},
   "outputs": [],
   "source": [
    "class Controller():\n",
    "    "
   ]
  }
 ],
 "metadata": {
  "kernelspec": {
   "display_name": "Python 3.7.9 64-bit",
   "language": "python",
   "name": "python3"
  },
  "language_info": {
   "codemirror_mode": {
    "name": "ipython",
    "version": 3
   },
   "file_extension": ".py",
   "mimetype": "text/x-python",
   "name": "python",
   "nbconvert_exporter": "python",
   "pygments_lexer": "ipython3",
   "version": "3.7.9"
  },
  "orig_nbformat": 4,
  "vscode": {
   "interpreter": {
    "hash": "8878cf7bbd9ca7ffc7254950b52ffe3c2d071ddf4505dc208df8a8f097e9d133"
   }
  }
 },
 "nbformat": 4,
 "nbformat_minor": 2
}
